{
 "cells": [
  {
   "cell_type": "markdown",
   "id": "ae258f7f-2938-4ce4-96fb-55754d68ac5b",
   "metadata": {},
   "source": [
    "<div style=\"display: flex; align-items: center;\">\n",
    "    <span style=\"font-size: 24px; color: #003366; font-weight: 500;\">Vina_GPU_2.0 Pipeline</span>\n",
    "    <img src=\"logo.jpg\" style=\"height: 50px; width: auto; margin-left: auto;\"/>\n",
    "</div>"
   ]
  },
  {
   "cell_type": "markdown",
   "id": "713b8dfc-a5a4-407a-b374-8566804df0b6",
   "metadata": {},
   "source": [
    "#### Import Necessary Libraries and Modules"
   ]
  },
  {
   "cell_type": "code",
   "execution_count": null,
   "id": "d4405d3d-69c6-45dd-8999-30193690262a",
   "metadata": {},
   "outputs": [],
   "source": [
    "import os\n",
    "import re\n",
    "import torch\n",
    "import random\n",
    "import string\n",
    "import subprocess\n",
    "import pandas as pd\n",
    "from typing import Optional, List\n",
    "import multiprocessing as mp\n",
    "from rdkit import Chem\n",
    "from rdkit.Chem import AllChem, Descriptors, Draw \n",
    "from rich.progress import Progress\n",
    "from smiles_conversion_utils import *"
   ]
  },
  {
   "cell_type": "markdown",
   "id": "882957b0-8155-4871-81f9-c1528819d2f9",
   "metadata": {},
   "source": [
    "#### Check GPU availability"
   ]
  },
  {
   "cell_type": "code",
   "execution_count": null,
   "id": "6c0f2574-d7fa-431c-8ec4-93d206ba9518",
   "metadata": {},
   "outputs": [],
   "source": [
    "if \"CUDA_VISIBLE_DEVICES\" not in os.environ:\n",
    "    os.environ[\"CUDA_VISIBLE_DEVICES\"] = \"0\"\n",
    "\n",
    "if torch.cuda.is_available():\n",
    "    device = torch.device(\"cuda\")\n",
    "    gpu_info = os.popen('nvidia-smi --query-gpu=utilization.gpu --format=csv,noheader,nounits').readlines()\n",
    "    gpu_available = 100 - int(gpu_info[0].strip())\n",
    "    print(f\"\\033[1m\\033[34mGPU availability in own1: \\033[91m{gpu_available}%\\033[0m\")\n",
    "else:\n",
    "    device = torch.device(\"cpu\")\n",
    "    print('GPU is not available, using CPU instead')\n",
    "\n",
    "device = torch.device(\"cuda:0\" if torch.cuda.is_available() else \"cpu\")"
   ]
  },
  {
   "cell_type": "markdown",
   "id": "bf82b0d9-df5f-42d5-a95b-3b886d903891",
   "metadata": {},
   "source": [
    "<div style=\"background-color:#4B6587; color:#F0E5CF; padding: 1px; border-radius: 10px;\">\n",
    "    <h2 style=\"font-size: 16px; margin-left: 10px;\"> Step 1. SMILES to SDF </h2>\n",
    "</div>"
   ]
  },
  {
   "cell_type": "code",
   "execution_count": null,
   "id": "d203e7f8-3db5-4139-b491-864ffe984f1f",
   "metadata": {},
   "outputs": [],
   "source": [
    "input_csv = \"aganitha_data/ligands_smiles.csv\"\n",
    "output_sdf = \"aganitha_data/ligands_sdf\"\n",
    "os.makedirs(output_sdf, exist_ok=True)"
   ]
  },
  {
   "cell_type": "code",
   "execution_count": null,
   "id": "1d48e004-3278-49b2-b0be-7079f1043adf",
   "metadata": {},
   "outputs": [],
   "source": [
    "df = pd.read_csv(input_csv)\n",
    "display(df.head())\n",
    "print(df.shape)"
   ]
  },
  {
   "cell_type": "code",
   "execution_count": null,
   "id": "e100433f-d82a-4083-966a-540214fbb939",
   "metadata": {},
   "outputs": [],
   "source": [
    "def generate_sdf_from_smiles(df, output_sdf, num_conformations=5, idx_conformer=0):\n",
    "    \n",
    "    total = len(df)\n",
    "    with Progress() as progress:\n",
    "        task1 = progress.add_task(\" [red]Converting SMILES to SDF...\", total=total)\n",
    "\n",
    "        for index, row in enumerate(df.iterrows(), start=1):\n",
    "            smiles, mol_name = row[1]['SMILES'], row[1]['Name']\n",
    "            mol = Chem.MolFromSmiles(smiles)\n",
    "            if mol is not None:\n",
    "                mol = get_structure(mol, num_conformations, idx_conformer)\n",
    "                if mol is not None:\n",
    "                    sdf_filename = os.path.join(output_sdf, f\"{mol_name}.sdf\")\n",
    "                    molecule_to_sdf(mol, sdf_filename, name=mol_name)\n",
    "            \n",
    "            progress.update(task1, advance=1)  \n",
    "            progress.refresh()\n",
    "\n",
    "    progress.stop()\n",
    "\n",
    "    print(f\"\\033[1m\\033[34mSMILES to SDF conversion completed and files saved in folder: \\033[91m{output_sdf}\\033[0m\")\n",
    "\n",
    "generate_sdf_from_smiles(df, output_sdf)"
   ]
  },
  {
   "cell_type": "markdown",
   "id": "ef3e215a-e23f-4acb-b4f0-069a2e7137a1",
   "metadata": {},
   "source": [
    "<div style=\"background-color:#4B6587; color:#F0E5CF; padding: 1px; border-radius: 10px;\">\n",
    "    <h2 style=\"font-size: 16px; margin-left: 10px;\"> Step 2. SDF to PDBQT </h2>\n",
    "</div>"
   ]
  },
  {
   "cell_type": "code",
   "execution_count": null,
   "id": "85fbeb4f-b932-45a3-8870-a6b205d87c5e",
   "metadata": {},
   "outputs": [],
   "source": [
    "input_sdf = \"aganitha_data/ligands_sdf\"\n",
    "output_pdbqt = \"aganitha_data/ligands_pdbqt\"\n",
    "os.makedirs(output_pdbqt, exist_ok=True)"
   ]
  },
  {
   "cell_type": "code",
   "execution_count": null,
   "id": "4f90379a-6ccb-42d6-bf30-c08aa2cf2e02",
   "metadata": {},
   "outputs": [],
   "source": [
    "def convert_sdf_to_pdbqt(input_sdf, output_pdbqt):\n",
    "    generated_files = []\n",
    "    \n",
    "    with Progress() as progress:\n",
    "        task1 = progress.add_task(\" [red]Converting SDF to PDBQT...\", total=len(os.listdir(input_sdf)))\n",
    "\n",
    "        for sdf_file in os.listdir(input_sdf):\n",
    "            if sdf_file.endswith(\".sdf\"):\n",
    "                base_filename = os.path.splitext(sdf_file)[0]\n",
    "                output_file = os.path.join(output_pdbqt, f\"{base_filename}.pdbqt\")\n",
    "                generated_files.append(output_file)\n",
    "\n",
    "                meeko = [\n",
    "                    \"mk_prepare_ligand.py\",\n",
    "                    \"-i\", os.path.join(input_sdf, sdf_file),\n",
    "                    \"-o\", output_file\n",
    "                ]\n",
    "                subprocess.run(meeko)\n",
    "                progress.update(task1, advance=1)\n",
    "                progress.refresh()\n",
    "    progress.stop()\n",
    "\n",
    "    return generated_files\n",
    "\n",
    "generated_files = convert_sdf_to_pdbqt(input_sdf, output_pdbqt)\n",
    "print(f\"\\033[1m\\033[34mSDF to PDBQT conversion completed and files saved in folder: \\033[91m{output_pdbqt}\\033[0m\")"
   ]
  },
  {
   "cell_type": "markdown",
   "id": "e165b4de-6b06-4607-8450-0c68a7446d01",
   "metadata": {},
   "source": [
    "<div style=\"background-color:#4B6587; color:#F0E5CF; padding: 1px; border-radius: 10px;\">\n",
    "    <h2 style=\"font-size: 16px; margin-left: 10px;\"> Step 3. Vina_GPU_2.0 Docking </h2>\n",
    "</div>"
   ]
  },
  {
   "cell_type": "code",
   "execution_count": null,
   "id": "f92d69d7-3ee2-4fb3-b5ee-8af76ec284a5",
   "metadata": {},
   "outputs": [],
   "source": [
    "input_protein = \"aganitha_data/kif18a.pdbqt\"\n",
    "input_ligands = \"aganitha_data/ligands_pdbqt\""
   ]
  },
  {
   "cell_type": "code",
   "execution_count": null,
   "id": "e91d3c37-ebad-41f7-8e30-8eaa4b8ef0fd",
   "metadata": {},
   "outputs": [],
   "source": [
    "open(output_logs := 'aganitha_data/output.txt', 'w').close()\n",
    "\n",
    "command = (\n",
    "    f\"../Vina-GPU \"\n",
    "    f\"--receptor {input_protein} \"\n",
    "    f\"--ligand_directory {input_ligands} \"\n",
    "    f\"--center_x 130.64 \"\n",
    "    f\"--center_y 115.49 \"\n",
    "    f\"--center_z 131.85 \"\n",
    "    f\"--size_x 23.71 \"\n",
    "    f\"--size_y 23.22 \"\n",
    "    f\"--size_z 22.74 \"\n",
    "    f\"--thread 8000 \"\n",
    "    f\"> {output_logs}\"\n",
    ")\n",
    "\n",
    "print(f\"\\033[1m\\033[34mDocking in Progress... \\033[91m{output_logs}\\033[0m\")\n",
    "subprocess.run(command, shell=True)\n",
    "print(f\"\\033[1m\\033[34mDocking Process completed and files saved in folder: \\033[91m{input_ligands}_out\\033[0m\")"
   ]
  },
  {
   "cell_type": "markdown",
   "id": "63344ebe-74fc-4aed-9d94-f37ae75d737e",
   "metadata": {},
   "source": [
    "<div style=\"background-color:#4B6587; color:#F0E5CF; padding: 1px; border-radius: 10px;\">\n",
    "    <h2 style=\"font-size: 16px; margin-left: 10px;\"> Step 4. Extract Affinity values </h2>\n",
    "</div>"
   ]
  },
  {
   "cell_type": "code",
   "execution_count": null,
   "id": "14175c15-2ef1-4bd0-bdf5-65ec653dfa67",
   "metadata": {},
   "outputs": [],
   "source": [
    "def extract_affinity_from_logs(output_logs):\n",
    "    with open(output_logs, \"r\") as file:\n",
    "        output = file.read()\n",
    "\n",
    "    pattern = r'Refining ligand (.+?) results.*?\\n\\s*1\\s+([-+]?\\d*\\.\\d+)\\s+\\d+\\.\\d+\\s+\\d+\\.\\d+'\n",
    "    matches = re.findall(pattern, output, re.DOTALL)\n",
    "    matches = [(os.path.basename(name), float(affinity)) for name, affinity in matches]\n",
    "\n",
    "    df = pd.DataFrame(matches, columns=['Name', 'Affinity (kcal/mol)'])\n",
    "    df['Affinity (kcal/mol)'] = pd.to_numeric(df['Affinity (kcal/mol)'], errors='coerce')\n",
    "    df = df.sort_values(by='Affinity (kcal/mol)', ascending=True).reset_index(drop=True)\n",
    "    return df\n",
    "\n",
    "df = extract_affinity_from_logs(output_logs)\n",
    "display(df.head())\n",
    "print(df.shape)"
   ]
  },
  {
   "cell_type": "markdown",
   "id": "c3f4e9a4-5d50-4311-92f9-b6e1c78b3252",
   "metadata": {},
   "source": [
    "<div style=\"background-color:#4B6587; color:#F0E5CF; padding: 1px; border-radius: 10px;\">\n",
    "    <h2 style=\"font-size: 16px; margin-left: 10px;\"> Step 5. PDBQT to SDF </h2>\n",
    "</div>"
   ]
  },
  {
   "cell_type": "code",
   "execution_count": null,
   "id": "46266cf7-171b-4658-a596-c4f624cefad7",
   "metadata": {},
   "outputs": [],
   "source": [
    "input_result_pdbqt = \"aganitha_data/ligands_pdbqt_out\"\n",
    "output_result_sdf = \"aganitha_data/ligands_sdf_out\"\n",
    "os.makedirs(output_result_sdf, exist_ok=True)"
   ]
  },
  {
   "cell_type": "code",
   "execution_count": null,
   "id": "ff86a616-75cc-47ff-ac04-fafef4f4ed81",
   "metadata": {},
   "outputs": [],
   "source": [
    "def convert_pdbqt_to_sdf(input_folder, output_folder):\n",
    "\n",
    "    with Progress() as progress:\n",
    "        task1 = progress.add_task(\" [red]Converting Result files PDBQT to SDF ...\", total=len(os.listdir(input_folder)))\n",
    "\n",
    "        pdbqt_files = [f for f in os.listdir(input_folder) if f.endswith('.pdbqt')]\n",
    "    \n",
    "        for pdbqt_file in pdbqt_files:\n",
    "            pdbqt_path = os.path.join(input_folder, pdbqt_file)\n",
    "            sdf_file = os.path.splitext(pdbqt_file)[0] + '.sdf'\n",
    "            sdf_path = os.path.join(output_folder, sdf_file)\n",
    "    \n",
    "            meeko = (\n",
    "                \"mk_export.py \"\n",
    "                f\"{pdbqt_path} \"\n",
    "                f\"-o {sdf_path}\"\n",
    "            )\n",
    "            subprocess.run(meeko, shell=True)\n",
    "            progress.update(task1, advance=1)\n",
    "            progress.refresh()\n",
    "    progress.stop()\n",
    "\n",
    "\n",
    "convert_pdbqt_to_sdf(input_result_pdbqt, output_result_sdf)\n",
    "print(f\"\\033[1m\\033[34mPDBQT to SDF Conversion Completed and saved in folder: \\033[91m{output_result_sdf}\\033[0m\")"
   ]
  },
  {
   "cell_type": "markdown",
   "id": "aef277d8-001d-4afd-9533-c157a35d6f06",
   "metadata": {},
   "source": [
    "<div style=\"background-color:#4B6587; color:#F0E5CF; padding: 1px; border-radius: 10px;\">\n",
    "    <h2 style=\"font-size: 16px; margin-left: 10px;\"> Step 6. Check SDF File </h2>\n",
    "</div>"
   ]
  },
  {
   "cell_type": "code",
   "execution_count": null,
   "id": "169c6509-6044-4366-96ad-f86574c66569",
   "metadata": {},
   "outputs": [],
   "source": [
    "sdf_file_path = 'aganitha_data/ligands_sdf_out/AMG650_out.sdf'"
   ]
  },
  {
   "cell_type": "code",
   "execution_count": null,
   "id": "3d9fd4ec-3b21-469d-9c6c-d757a63aefda",
   "metadata": {},
   "outputs": [],
   "source": [
    "def process_sdf_file(sdf_file_path):\n",
    "    supplier = Chem.SDMolSupplier(sdf_file_path)\n",
    "\n",
    "    for mol in supplier:\n",
    "        if mol is not None:\n",
    "            if mol.GetNumConformers() > 0:\n",
    "                conf = mol.GetConformer()\n",
    "                for atom in mol.GetAtoms():\n",
    "                    pos = conf.GetAtomPosition(atom.GetIdx())\n",
    "                    print(f\"Atom {atom.GetIdx()}: {pos.x}, {pos.y}, {pos.z}\")\n",
    "\n",
    "                img_size = (500, 500)  \n",
    "                img = Draw.MolToImage(mol, size=img_size)\n",
    "                img.show()\n",
    "\n",
    "process_sdf_file(sdf_file_path)"
   ]
  }
 ],
 "metadata": {
  "kernelspec": {
   "display_name": "Python 3 (ipykernel)",
   "language": "python",
   "name": "python3"
  },
  "language_info": {
   "codemirror_mode": {
    "name": "ipython",
    "version": 3
   },
   "file_extension": ".py",
   "mimetype": "text/x-python",
   "name": "python",
   "nbconvert_exporter": "python",
   "pygments_lexer": "ipython3",
   "version": "3.8.10"
  }
 },
 "nbformat": 4,
 "nbformat_minor": 5
}
