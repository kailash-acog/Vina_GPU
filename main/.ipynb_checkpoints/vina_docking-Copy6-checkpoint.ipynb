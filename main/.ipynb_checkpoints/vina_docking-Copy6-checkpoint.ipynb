{
 "cells": [
  {
   "cell_type": "markdown",
   "id": "ae258f7f-2938-4ce4-96fb-55754d68ac5b",
   "metadata": {},
   "source": [
    "<div style=\"display: flex; align-items: center;\">\n",
    "    <span style=\"font-size: 24px; color: #003366; font-weight: 500;\">Vina_GPU_2.0 Pipeline</span>\n",
    "    <img src=\"logo.jpg\" style=\"height: 50px; width: auto; margin-left: auto;\"/>\n",
    "</div>"
   ]
  },
  {
   "cell_type": "markdown",
   "id": "713b8dfc-a5a4-407a-b374-8566804df0b6",
   "metadata": {},
   "source": [
    "#### Import Necessary Libraries and Modules"
   ]
  },
  {
   "cell_type": "code",
   "execution_count": 1,
   "id": "d4405d3d-69c6-45dd-8999-30193690262a",
   "metadata": {},
   "outputs": [
    {
     "name": "stdout",
     "output_type": "stream",
     "text": [
      "disabling protonation states for smi2sdf\n"
     ]
    }
   ],
   "source": [
    "import os\n",
    "import re\n",
    "import torch\n",
    "import random\n",
    "import string\n",
    "import subprocess\n",
    "import pandas as pd\n",
    "from typing import Optional, List\n",
    "import multiprocessing as mp\n",
    "from rdkit import Chem\n",
    "from rdkit.Chem import AllChem, Descriptors, Draw \n",
    "from smiles_conversion_utils import *"
   ]
  },
  {
   "cell_type": "markdown",
   "id": "882957b0-8155-4871-81f9-c1528819d2f9",
   "metadata": {},
   "source": [
    "#### Check GPU availability"
   ]
  },
  {
   "cell_type": "code",
   "execution_count": 2,
   "id": "6c0f2574-d7fa-431c-8ec4-93d206ba9518",
   "metadata": {},
   "outputs": [
    {
     "name": "stdout",
     "output_type": "stream",
     "text": [
      "\u001b[1m\u001b[34mGPU availability in own1: \u001b[91m96%\u001b[0m\n"
     ]
    }
   ],
   "source": [
    "if \"CUDA_VISIBLE_DEVICES\" not in os.environ:\n",
    "    os.environ[\"CUDA_VISIBLE_DEVICES\"] = \"0\"\n",
    "\n",
    "if torch.cuda.is_available():\n",
    "    device = torch.device(\"cuda\")\n",
    "    gpu_info = os.popen('nvidia-smi --query-gpu=utilization.gpu --format=csv,noheader,nounits').readlines()\n",
    "    gpu_available = 100 - int(gpu_info[0].strip())\n",
    "    print(f\"\\033[1m\\033[34mGPU availability in own1: \\033[91m{gpu_available}%\\033[0m\")\n",
    "else:\n",
    "    device = torch.device(\"cpu\")\n",
    "    print('GPU is not available, using CPU instead')\n",
    "\n",
    "device = torch.device(\"cuda:0\" if torch.cuda.is_available() else \"cpu\")"
   ]
  },
  {
   "cell_type": "markdown",
   "id": "bf82b0d9-df5f-42d5-a95b-3b886d903891",
   "metadata": {},
   "source": [
    "<div style=\"background-color:#4B6587; color:#F0E5CF; padding: 3px; border-radius: 10px;\">\n",
    "    <h2> Step 1. SMILES to SDF</h2>\n",
    "</div>"
   ]
  },
  {
   "cell_type": "code",
   "execution_count": 3,
   "id": "d203e7f8-3db5-4139-b491-864ffe984f1f",
   "metadata": {},
   "outputs": [],
   "source": [
    "input_csv = \"aganitha_data/ligands_smiles.csv\"\n",
    "output_sdf = \"aganitha_data/ligands_sdf\"\n",
    "os.makedirs(output_sdf, exist_ok=True)"
   ]
  },
  {
   "cell_type": "code",
   "execution_count": 4,
   "id": "1d48e004-3278-49b2-b0be-7079f1043adf",
   "metadata": {},
   "outputs": [
    {
     "data": {
      "text/html": [
       "<div>\n",
       "<style scoped>\n",
       "    .dataframe tbody tr th:only-of-type {\n",
       "        vertical-align: middle;\n",
       "    }\n",
       "\n",
       "    .dataframe tbody tr th {\n",
       "        vertical-align: top;\n",
       "    }\n",
       "\n",
       "    .dataframe thead th {\n",
       "        text-align: right;\n",
       "    }\n",
       "</style>\n",
       "<table border=\"1\" class=\"dataframe\">\n",
       "  <thead>\n",
       "    <tr style=\"text-align: right;\">\n",
       "      <th></th>\n",
       "      <th>Name</th>\n",
       "      <th>SMILES</th>\n",
       "    </tr>\n",
       "  </thead>\n",
       "  <tbody>\n",
       "    <tr>\n",
       "      <th>0</th>\n",
       "      <td>AMG650</td>\n",
       "      <td>CC1=CC(=NC(=N1)N2CCC(CC2)(F)F)NC(=O)C3=C(C=C(C...</td>\n",
       "    </tr>\n",
       "    <tr>\n",
       "      <th>1</th>\n",
       "      <td>BB_35</td>\n",
       "      <td>c1(c(ccc(c1)NS(CCO)(=O)=O)C(Nc1cccc(c1)N1CCC(C...</td>\n",
       "    </tr>\n",
       "    <tr>\n",
       "      <th>2</th>\n",
       "      <td>BB_40</td>\n",
       "      <td>c12ccc(cc1C1(CN2C(c2cc(ccc2)S(NC(C)(C)C)(=O)=O...</td>\n",
       "    </tr>\n",
       "    <tr>\n",
       "      <th>3</th>\n",
       "      <td>BB_36</td>\n",
       "      <td>c1(c(ncc(n1)NC(CO)(C)C)C(Nc1cccc(n1)S(NC(C)(C)...</td>\n",
       "    </tr>\n",
       "    <tr>\n",
       "      <th>4</th>\n",
       "      <td>BB_37</td>\n",
       "      <td>c12c(cc(cc1N1CCC3(CC1)CC3)NS(CCO)(=O)=O)ncnc2N...</td>\n",
       "    </tr>\n",
       "  </tbody>\n",
       "</table>\n",
       "</div>"
      ],
      "text/plain": [
       "     Name                                             SMILES\n",
       "0  AMG650  CC1=CC(=NC(=N1)N2CCC(CC2)(F)F)NC(=O)C3=C(C=C(C...\n",
       "1   BB_35  c1(c(ccc(c1)NS(CCO)(=O)=O)C(Nc1cccc(c1)N1CCC(C...\n",
       "2   BB_40  c12ccc(cc1C1(CN2C(c2cc(ccc2)S(NC(C)(C)C)(=O)=O...\n",
       "3   BB_36  c1(c(ncc(n1)NC(CO)(C)C)C(Nc1cccc(n1)S(NC(C)(C)...\n",
       "4   BB_37  c12c(cc(cc1N1CCC3(CC1)CC3)NS(CCO)(=O)=O)ncnc2N..."
      ]
     },
     "metadata": {},
     "output_type": "display_data"
    },
    {
     "name": "stdout",
     "output_type": "stream",
     "text": [
      "(23, 2)\n"
     ]
    }
   ],
   "source": [
    "df = pd.read_csv(input_csv)\n",
    "\n",
    "display(df.head())\n",
    "print(df.shape)"
   ]
  },
  {
   "cell_type": "code",
   "execution_count": 5,
   "id": "dc360b3f-629e-4af4-a3d8-6e3a1a52890a",
   "metadata": {},
   "outputs": [
    {
     "name": "stdout",
     "output_type": "stream",
     "text": [
      "\u001b[1m\u001b[34mSMILES to SDF Conversion Completed and saved in folder: \u001b[91maganitha_data/ligands_sdf\u001b[0m\n"
     ]
    }
   ],
   "source": [
    "num_conformations = 5  \n",
    "idx_conformer = 0  \n",
    "num_cpus = os.cpu_count()  \n",
    "\n",
    "for index, row in df.iterrows():\n",
    "    smiles = row['SMILES']\n",
    "    mol_name = row['Name']\n",
    "    mol = Chem.MolFromSmiles(smiles)\n",
    "    if mol is not None:\n",
    "        mol = get_structure(mol, num_conformations, idx_conformer)\n",
    "        if mol is not None:\n",
    "            sdf_filename = os.path.join(output_sdf, f\"{mol_name}.sdf\")\n",
    "            molecule_to_sdf(mol, sdf_filename, name=mol_name)\n",
    "\n",
    "print(f\"\\033[1m\\033[34mSMILES to SDF Conversion Completed and saved in folder: \\033[91m{output_sdf}\\033[0m\")"
   ]
  },
  {
   "cell_type": "markdown",
   "id": "ef3e215a-e23f-4acb-b4f0-069a2e7137a1",
   "metadata": {},
   "source": [
    "<div style=\"background-color:#4B6587; color:#F0E5CF; padding: 3px; border-radius: 10px;\">\n",
    "    <h2>Step 2. SDF to PDBQT</h2>\n",
    "</div>"
   ]
  },
  {
   "cell_type": "code",
   "execution_count": 6,
   "id": "85fbeb4f-b932-45a3-8870-a6b205d87c5e",
   "metadata": {},
   "outputs": [],
   "source": [
    "input_sdf = \"aganitha_data/ligands_sdf\"\n",
    "output_pdbqt = \"aganitha_data/ligands_pdbqt\"\n",
    "os.makedirs(output_pdbqt, exist_ok=True)"
   ]
  },
  {
   "cell_type": "code",
   "execution_count": 7,
   "id": "4f90379a-6ccb-42d6-bf30-c08aa2cf2e02",
   "metadata": {},
   "outputs": [
    {
     "name": "stdout",
     "output_type": "stream",
     "text": [
      "\u001b[1m\u001b[34mSDF to PDBQT Conversion Completed and saved in folder: \u001b[91maganitha_data/ligands_pdbqt\u001b[0m\n"
     ]
    }
   ],
   "source": [
    "for sdf_file in os.listdir(input_sdf):\n",
    "    if sdf_file.endswith(\".sdf\"):\n",
    "        base_filename = os.path.splitext(sdf_file)[0]\n",
    "        output_logs = os.path.join(output_pdbqt, f\"{base_filename}.pdbqt\")\n",
    "\n",
    "        command = [\n",
    "            \"mk_prepare_ligand.py\",\n",
    "            \"-i\", os.path.join(input_sdf, sdf_file),\n",
    "            \"-o\", output_logs\n",
    "        ]\n",
    "        subprocess.run(command)\n",
    "\n",
    "generated_files = os.listdir(output_pdbqt)\n",
    "print(f\"\\033[1m\\033[34mSDF to PDBQT Conversion Completed and saved in folder: \\033[91m{output_pdbqt}\\033[0m\")"
   ]
  },
  {
   "cell_type": "markdown",
   "id": "e165b4de-6b06-4607-8450-0c68a7446d01",
   "metadata": {},
   "source": [
    "<div style=\"background-color:#4B6587; color:#F0E5CF; padding: 3px; border-radius: 10px;\">\n",
    "    <h2>Step 3. Pass PDBQT files to Vina_GPU_2.0</h2>\n",
    "</div>"
   ]
  },
  {
   "cell_type": "code",
   "execution_count": 8,
   "id": "f92d69d7-3ee2-4fb3-b5ee-8af76ec284a5",
   "metadata": {},
   "outputs": [],
   "source": [
    "input_protein = \"aganitha_data/kif18a.pdbqt\"\n",
    "input_ligands = \"aganitha_data/ligands_pdbqt\""
   ]
  },
  {
   "cell_type": "code",
   "execution_count": 11,
   "id": "e91d3c37-ebad-41f7-8e30-8eaa4b8ef0fd",
   "metadata": {},
   "outputs": [
    {
     "name": "stdout",
     "output_type": "stream",
     "text": [
      "\u001b[1m\u001b[34mCheck the progress: \u001b[91maganitha_data/output.txt\u001b[0m\n"
     ]
    },
    {
     "name": "stderr",
     "output_type": "stream",
     "text": [
      "\n",
      "Parse error on line 1 in file \"aganitha_data/ligands_pdbqt/BB_37.pdbqt\": Unknown or inappropriate tag\n",
      "\n",
      "Parse error on line 54 in file \"aganitha_data/ligands_pdbqt/AGAN-209.pdbqt\": ATOM syntax incorrect: \"CG0\" is not a valid AutoDock type. Note that AutoDock atom types are case-sensitive.\n"
     ]
    },
    {
     "name": "stdout",
     "output_type": "stream",
     "text": [
      "\u001b[1m\u001b[34mSDF to PDBQT Conversion Completed and saved in folder: \u001b[91maganitha_data/ligands_pdbqt_out\u001b[0m\n"
     ]
    }
   ],
   "source": [
    "command = (\n",
    "    f\"../Vina-GPU \"\n",
    "    f\"--receptor {input_protein} \"\n",
    "    f\"--ligand_directory {input_ligands} \"\n",
    "    f\"--center_x 130.64 \"\n",
    "    f\"--center_y 115.49 \"\n",
    "    f\"--center_z 131.85 \"\n",
    "    f\"--size_x 23.71 \"\n",
    "    f\"--size_y 23.22 \"\n",
    "    f\"--size_z 22.74 \"\n",
    "    f\"--thread 8000 \"\n",
    "    f\"> {output_logs}\"\n",
    ")\n",
    "open(output_logs := 'aganitha_data/output.txt', 'w').close()\n",
    "print(f\"\\033[1m\\033[34mCheck the progress: \\033[91m{output_logs}\\033[0m\")\n",
    "subprocess.run(command, shell=True)\n",
    "print(f\"\\033[1m\\033[34mSDF to PDBQT Conversion Completed and saved in folder: \\033[91m{input_ligands}_out\\033[0m\")"
   ]
  },
  {
   "cell_type": "markdown",
   "id": "63344ebe-74fc-4aed-9d94-f37ae75d737e",
   "metadata": {},
   "source": [
    "<div style=\"background-color:#4B6587; color:#F0E5CF; padding: 3px; border-radius: 10px;\">\n",
    "    <h2>Step 4. Extract Affinity values</h2>\n",
    "</div>"
   ]
  },
  {
   "cell_type": "code",
   "execution_count": 12,
   "id": "14175c15-2ef1-4bd0-bdf5-65ec653dfa67",
   "metadata": {},
   "outputs": [
    {
     "data": {
      "text/html": [
       "<div>\n",
       "<style scoped>\n",
       "    .dataframe tbody tr th:only-of-type {\n",
       "        vertical-align: middle;\n",
       "    }\n",
       "\n",
       "    .dataframe tbody tr th {\n",
       "        vertical-align: top;\n",
       "    }\n",
       "\n",
       "    .dataframe thead th {\n",
       "        text-align: right;\n",
       "    }\n",
       "</style>\n",
       "<table border=\"1\" class=\"dataframe\">\n",
       "  <thead>\n",
       "    <tr style=\"text-align: right;\">\n",
       "      <th></th>\n",
       "      <th>Name</th>\n",
       "      <th>Affinity (kcal/mol)</th>\n",
       "    </tr>\n",
       "  </thead>\n",
       "  <tbody>\n",
       "    <tr>\n",
       "      <th>0</th>\n",
       "      <td>AGAN245-df-11-CN</td>\n",
       "      <td>-13.8</td>\n",
       "    </tr>\n",
       "    <tr>\n",
       "      <th>1</th>\n",
       "      <td>6</td>\n",
       "      <td>-13.6</td>\n",
       "    </tr>\n",
       "    <tr>\n",
       "      <th>2</th>\n",
       "      <td>BB_40</td>\n",
       "      <td>-13.4</td>\n",
       "    </tr>\n",
       "    <tr>\n",
       "      <th>3</th>\n",
       "      <td>AGAN 245-df-2-CN</td>\n",
       "      <td>-13.4</td>\n",
       "    </tr>\n",
       "    <tr>\n",
       "      <th>4</th>\n",
       "      <td>BB_38</td>\n",
       "      <td>-13.3</td>\n",
       "    </tr>\n",
       "  </tbody>\n",
       "</table>\n",
       "</div>"
      ],
      "text/plain": [
       "               Name  Affinity (kcal/mol)\n",
       "0  AGAN245-df-11-CN                -13.8\n",
       "1                 6                -13.6\n",
       "2             BB_40                -13.4\n",
       "3  AGAN 245-df-2-CN                -13.4\n",
       "4             BB_38                -13.3"
      ]
     },
     "metadata": {},
     "output_type": "display_data"
    },
    {
     "name": "stdout",
     "output_type": "stream",
     "text": [
      "(21, 2)\n"
     ]
    }
   ],
   "source": [
    "output = open(output_logs, \"r\").read()\n",
    "pattern = r'Refining ligand (.+?) results.*?\\n\\s*1\\s+([-+]?\\d*\\.\\d+)\\s+\\d+\\.\\d+\\s+\\d+\\.\\d+'\n",
    "matches = re.findall(pattern, output, re.DOTALL)\n",
    "matches = [(os.path.basename(name), float(affinity)) for name, affinity in matches]\n",
    "df = pd.DataFrame(matches, columns=['Name', 'Affinity (kcal/mol)'])\n",
    "df['Affinity (kcal/mol)'] = pd.to_numeric(df['Affinity (kcal/mol)'], errors='coerce')\n",
    "df = df.sort_values(by='Affinity (kcal/mol)', ascending=True).reset_index(drop=True)\n",
    "\n",
    "display(df.head())\n",
    "print(df.shape)"
   ]
  }
 ],
 "metadata": {
  "kernelspec": {
   "display_name": "Python 3 (ipykernel)",
   "language": "python",
   "name": "python3"
  },
  "language_info": {
   "codemirror_mode": {
    "name": "ipython",
    "version": 3
   },
   "file_extension": ".py",
   "mimetype": "text/x-python",
   "name": "python",
   "nbconvert_exporter": "python",
   "pygments_lexer": "ipython3",
   "version": "3.8.10"
  }
 },
 "nbformat": 4,
 "nbformat_minor": 5
}
